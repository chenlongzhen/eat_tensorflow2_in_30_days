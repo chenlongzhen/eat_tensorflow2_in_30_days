{
 "cells": [
  {
   "cell_type": "markdown",
   "metadata": {},
   "source": [
    "# 五、TensorFlow的中阶API\n",
    "\n",
    "TensorFlow的中阶API主要包括: \n",
    "\n",
    "* 数据管道(tf.data)\n",
    "\n",
    "* 特征列(tf.feature_column)\n",
    "\n",
    "* 激活函数(tf.nn)\n",
    "\n",
    "* 模型层(tf.keras.layers)\n",
    "\n",
    "* 损失函数(tf.keras.losses)\n",
    "\n",
    "* 评估函数(tf.keras.metrics)\n",
    "\n",
    "* 优化器(tf.keras.optimizers)\n",
    "\n",
    "* 回调函数(tf.keras.callbacks)\n",
    "\n",
    "如果把模型比作一个房子，那么中阶API就是【模型之墙】。"
   ]
  },
  {
   "cell_type": "markdown",
   "metadata": {},
   "source": [
    "如果对本书内容理解上有需要进一步和作者交流的地方，欢迎在公众号\"Python与算法之美\"下留言。作者时间和精力有限，会酌情予以回复。\n",
    "\n",
    "也可以在公众号后台回复关键字：**加群**，加入读者交流群和大家讨论。\n",
    "\n",
    "![image.png](./data/Python与算法之美logo.jpg)"
   ]
  },
  {
   "cell_type": "code",
   "execution_count": null,
   "metadata": {},
   "outputs": [],
   "source": []
  }
 ],
 "metadata": {
  "jupytext": {
   "cell_metadata_filter": "-all",
   "main_language": "python",
   "notebook_metadata_filter": "-all"
  }
 },
 "nbformat": 4,
 "nbformat_minor": 4
}
