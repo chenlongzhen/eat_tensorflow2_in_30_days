{
 "cells": [
  {
   "cell_type": "markdown",
   "metadata": {},
   "source": [
    "# Summary\n",
    "\n",
    "* [Introduction](README.md)\n",
    "* [Chapter 1: Modeling Procedure of TensorFlow](./english/Chapter1.md)\n",
    "* [1-1 Example: Modeling Procedure for Structured Data](./english/Chapter1-1.md)\n",
    "* [1-2 Example: Modeling Procedure for Images](./english/Chapter1-2.md)\n",
    "* [1-3 Example: Modeling Procedure for Texts](./english/Chapter1-3.md)\n",
    "* [1-4 Example: Modeling Procedure for Temporal Sequences](./english/Chapter1-4.md)\n",
    "\n",
    "* [Chapter 2: Key Concepts of TensorFlow](./english/Chapter2.md)\n",
    "* [2-1 Data Structure of Tensor](./english/Chapter2-1.md)\n",
    "* [2-2 Three Types of Graph](./english/Chapter2-2.md)\n",
    "* [2-3 Automatic Differentiate](./english/Chapter2-3.md)\n",
    "\n",
    "* [Chapter 3: Hierarchy of TensorFlow](./english/Chapter3.md)\n",
    "* [3-1 Low-level API: Demonstration](./english/Chapter3-1.md)\n",
    "* [3-2 Mid-level API: Demonstration](./english/Chapter3-2.md)\n",
    "* [3-3 High-level API: Demonstration](./english/Chapter3-3.md)\n",
    "\n",
    "* [Chapter 4: Low-level API in TensorFlow](./english/Chapter4.md)\n",
    "* [4-1 Structural Operations of the Tensor](./english/Chapter4-1.md)\n",
    "* [4-2 Mathematical Operations of the Tensor](./english/Chapter4-2.md)\n",
    "* [4-3 Rules of Using the AutoGraph](./english/Chapter4-3.md)\n",
    "* [4-4 Mechanisms of the AutoGraph](./english/Chapter4-4.md)\n",
    "* [4-5 AutoGraph and tf.Module](./english/Chapter4-5.md)\n",
    "\n",
    "* [Chapter 5: Mid-level API in TensorFlow](./english/Chapter5.md)\n",
    "* [5-1 Dataset](./english/Chapter5-1.md)\n",
    "* [5-2 feature_column](./english/Chapter5-2.md)\n",
    "* [5-3 activation](./english/Chapter5-3.md)\n",
    "* [5-4 layers](./english/Chapter5-4.md)\n",
    "* [5-5 losses](./english/Chapter5-5.md)\n",
    "* [5-6 metrics](./english/Chapter5-6.md)\n",
    "* [5-7 optimizers](./english/Chapter5-7.md)\n",
    "* [5-8 callbacks](./english/Chapter5-8.md)\n",
    "\n",
    "* [Chapter 6: High-level API in TensorFlow](./english/Chapter6.md)\n",
    "* [6-1 Three Ways of Modeling](./english/Chapter6-1.md)\n",
    "* [6-2 Three Ways of Training](./english/Chapter6-2.md)\n",
    "* [6-3 Model Training Using Single GPU](./english/Chapter6-3.md)\n",
    "* [6-4 Model Training Using Multiple GPUs](./english/Chapter6-4.md)\n",
    "* [6-5 Model Training Using TPU](./english/Chapter6-5.md)\n",
    "* [6-6 Model Deploying Using tensorflow-serving](./english/Chapter6-6.md)\n",
    "* [6-7 Call Tensorflow Model Using spark-scala](./english/Chapter6-7.md)\n",
    "* [Epilogue：A Story Between a Foodie and Cuisine](./english/Epilogue.md)\n",
    "\n"
   ]
  }
 ],
 "metadata": {
  "jupytext": {
   "cell_metadata_filter": "-all",
   "main_language": "python",
   "notebook_metadata_filter": "-all"
  }
 },
 "nbformat": 4,
 "nbformat_minor": 4
}
